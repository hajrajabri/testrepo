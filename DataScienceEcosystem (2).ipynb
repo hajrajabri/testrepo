{
 "cells": [
  {
   "cell_type": "markdown",
   "id": "16fc3f0c",
   "metadata": {},
   "source": [
    "# Data Science Tools and Ecosystem "
   ]
  },
  {
   "cell_type": "code",
   "execution_count": null,
   "id": "82085364",
   "metadata": {},
   "outputs": [],
   "source": [
    "In this notebook,Data Science Tools and Ecosystem are summarized."
   ]
  },
  {
   "cell_type": "markdown",
   "id": "bba91e55",
   "metadata": {},
   "source": [
    "some of the popular languages that Data Scientists use are:\n",
    "\n",
    "1.python\n",
    "2.R\n",
    "3.SQL\n",
    "4.C++\n",
    "5.JAVA etc;"
   ]
  },
  {
   "cell_type": "markdown",
   "id": "0f3120af",
   "metadata": {},
   "source": [
    "SOME OF THE COMMONLY USED LABRARIES BY DATA SCIENTISTS INCLUDE:\n",
    "\n",
    "1.tensorflow\n",
    "2.Numpy\n",
    "3.Scipy\n",
    "4.Pandas\n",
    "5.Matplotlib\n",
    "6.Keras\n",
    "7.Scikit-Learn\n",
    "8.PyTorch. etc..;"
   ]
  },
  {
   "cell_type": "markdown",
   "id": "e1d1c171",
   "metadata": {},
   "source": [
    "|Data science tools|\n",
    "|---|\n",
    "|SAS|\n",
    "|Apache Hadoop|\n",
    "|TensorFlow|"
   ]
  },
  {
   "cell_type": "markdown",
   "id": "0e14fce5",
   "metadata": {},
   "source": [
    "### Below are the few examples of evaluating arthmetic expressions in python."
   ]
  },
  {
   "cell_type": "code",
   "execution_count": 22,
   "id": "c43d88f9",
   "metadata": {},
   "outputs": [
    {
     "data": {
      "text/plain": [
       "27"
      ]
     },
     "execution_count": 22,
     "metadata": {},
     "output_type": "execute_result"
    }
   ],
   "source": [
    "#this is the common arthmetic example to multiply and add integers\n",
    "(4*6)+3"
   ]
  },
  {
   "cell_type": "code",
   "execution_count": 23,
   "id": "6b85b391",
   "metadata": {},
   "outputs": [
    {
     "data": {
      "text/plain": [
       "3.3333333333333335"
      ]
     },
     "execution_count": 23,
     "metadata": {},
     "output_type": "execute_result"
    }
   ],
   "source": [
    "#coverting 200 minutes to hours by dividing it by 60\n",
    "200/60"
   ]
  },
  {
   "cell_type": "markdown",
   "id": "60b9c1d5",
   "metadata": {},
   "source": [
    "__Objective__\n",
    "\n",
    ". list popular languages for data science \n",
    ". list popular libraries for data science \n",
    ". list pf well known data science tools '\n",
    ". how to provide comments in the cell "
   ]
  },
  {
   "cell_type": "markdown",
   "id": "2c4ea2a9",
   "metadata": {},
   "source": [
    "## Author \n",
    "Niveditha pandith\n"
   ]
  },
  {
   "cell_type": "code",
   "execution_count": null,
   "id": "068f1b7e",
   "metadata": {},
   "outputs": [],
   "source": []
  }
 ],
 "metadata": {
  "kernelspec": {
   "display_name": "Python 3 (ipykernel)",
   "language": "python",
   "name": "python3"
  },
  "language_info": {
   "codemirror_mode": {
    "name": "ipython",
    "version": 3
   },
   "file_extension": ".py",
   "mimetype": "text/x-python",
   "name": "python",
   "nbconvert_exporter": "python",
   "pygments_lexer": "ipython3",
   "version": "3.11.4"
  }
 },
 "nbformat": 4,
 "nbformat_minor": 5
}
